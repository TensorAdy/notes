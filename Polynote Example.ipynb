{
  "metadata" : {
    "config" : {
      "dependencies" : {
        
      },
      "exclusions" : [
      ],
      "repositories" : [
      ],
      "sparkConfig" : {
        "spark.master" : "local[*]",
        "spark.driver.userClasspathFirst" : "true",
        "sspark.executor.userClasspathFirst" : "true"
      }
    }
  },
  "nbformat" : 4,
  "nbformat_minor" : 0,
  "cells" : [
    {
      "cell_type" : "markdown",
      "execution_count" : 0,
      "metadata" : {
        "language" : "text"
      },
      "language" : "text",
      "source" : [
        "# polynote example\n",
        "\n",
        "\n",
        "<br>\n"
      ],
      "outputs" : [
      ]
    },
    {
      "cell_type" : "code",
      "execution_count" : 1,
      "metadata" : {
        "cell.metadata.exec_info" : {
          "startTs" : 1572153219983,
          "endTs" : 1572153220344
        },
        "language" : "scala"
      },
      "language" : "scala",
      "source" : [
        "print(\"Hello World!\")"
      ],
      "outputs" : [
        {
          "name" : "stdout",
          "text" : [
            "Hello World!"
          ],
          "output_type" : "stream"
        }
      ]
    },
    {
      "cell_type" : "code",
      "execution_count" : 2,
      "metadata" : {
        "cell.metadata.exec_info" : {
          "startTs" : 1572153220357,
          "endTs" : 1572153221042
        },
        "language" : "python"
      },
      "language" : "python",
      "source" : [
        "print(\"Hello World!\")"
      ],
      "outputs" : [
        {
          "name" : "stdout",
          "text" : [
            "Hello World!",
            "\n"
          ],
          "output_type" : "stream"
        }
      ]
    },
    {
      "cell_type" : "code",
      "execution_count" : 3,
      "metadata" : {
        "cell.metadata.exec_info" : {
          "startTs" : 1572156734686,
          "endTs" : 1572156734759
        },
        "language" : "sql"
      },
      "language" : "sql",
      "source" : [
        "select (\"Hello World!\")"
      ],
      "outputs" : [
        {
          "execution_count" : 3,
          "data" : {
            "text/plain" : [
              "[Hello World!: string]"
            ]
          },
          "metadata" : {
            "name" : "Out",
            "type" : "DataFrame"
          },
          "output_type" : "execute_result"
        }
      ]
    },
    {
      "cell_type" : "code",
      "execution_count" : 4,
      "metadata" : {
        "cell.metadata.exec_info" : {
          "startTs" : 1572154017954,
          "endTs" : 1572154018347
        },
        "language" : "scala"
      },
      "language" : "scala",
      "source" : [
        "val scala_df = spark.createDataFrame(List(\n",
        "(1, 4),\n",
        "(2, 5),\n",
        "(3, 6)))"
      ],
      "outputs" : [
      ]
    },
    {
      "cell_type" : "code",
      "execution_count" : 5,
      "metadata" : {
        "cell.metadata.exec_info" : {
          "startTs" : 1572154019469,
          "endTs" : 1572154019613
        },
        "language" : "scala"
      },
      "language" : "scala",
      "source" : [
        "scala_df"
      ],
      "outputs" : [
        {
          "execution_count" : 5,
          "data" : {
            "text/plain" : [
              "[_1: int, _2: int]"
            ]
          },
          "metadata" : {
            "name" : "Out",
            "type" : "DataFrame"
          },
          "output_type" : "execute_result"
        }
      ]
    },
    {
      "cell_type" : "code",
      "execution_count" : 14,
      "metadata" : {
        "cell.metadata.exec_info" : {
          "startTs" : 1572155588744,
          "endTs" : 1572155588806
        },
        "language" : "sql"
      },
      "language" : "sql",
      "source" : [
        "select * from scala_df"
      ],
      "outputs" : [
        {
          "execution_count" : 14,
          "data" : {
            "text/plain" : [
              "[_1: int, _2: int]"
            ]
          },
          "metadata" : {
            "name" : "Out",
            "type" : "DataFrame"
          },
          "output_type" : "execute_result"
        }
      ]
    },
    {
      "cell_type" : "code",
      "execution_count" : 6,
      "metadata" : {
        "cell.metadata.exec_info" : {
          "startTs" : 1572154020581,
          "endTs" : 1572154020840
        },
        "language" : "python"
      },
      "language" : "python",
      "source" : [
        "from pyspark.sql import DataFrame\n",
        "df = DataFrame(scala_df, sqlContext)\n",
        "df = df.toPandas()\n",
        "df"
      ],
      "outputs" : [
        {
          "execution_count" : 6,
          "data" : {
            "text/html" : [
              "<div>\n",
              "<style scoped>\n",
              "    .dataframe tbody tr th:only-of-type {\n",
              "        vertical-align: middle;\n",
              "    }\n",
              "\n",
              "    .dataframe tbody tr th {\n",
              "        vertical-align: top;\n",
              "    }\n",
              "\n",
              "    .dataframe thead th {\n",
              "        text-align: right;\n",
              "    }\n",
              "</style>\n",
              "<table border=\"1\" class=\"dataframe\">\n",
              "  <thead>\n",
              "    <tr style=\"text-align: right;\">\n",
              "      <th></th>\n",
              "      <th>_1</th>\n",
              "      <th>_2</th>\n",
              "    </tr>\n",
              "  </thead>\n",
              "  <tbody>\n",
              "    <tr>\n",
              "      <th>0</th>\n",
              "      <td>1</td>\n",
              "      <td>4</td>\n",
              "    </tr>\n",
              "    <tr>\n",
              "      <th>1</th>\n",
              "      <td>2</td>\n",
              "      <td>5</td>\n",
              "    </tr>\n",
              "    <tr>\n",
              "      <th>2</th>\n",
              "      <td>3</td>\n",
              "      <td>6</td>\n",
              "    </tr>\n",
              "  </tbody>\n",
              "</table>\n",
              "</div>"
            ],
            "text/plain" : [
              "   _1  _2\n",
              "0   1   4\n",
              "1   2   5\n",
              "2   3   6"
            ]
          },
          "metadata" : {
            "name" : "Out",
            "type" : "TypedPythonObject[DataFrame]"
          },
          "output_type" : "execute_result"
        }
      ]
    },
    {
      "cell_type" : "code",
      "execution_count" : 7,
      "metadata" : {
        "cell.metadata.exec_info" : {
          "startTs" : 1572154023435,
          "endTs" : 1572154023506
        },
        "language" : "python"
      },
      "language" : "python",
      "source" : [
        "x = 1"
      ],
      "outputs" : [
      ]
    },
    {
      "cell_type" : "code",
      "execution_count" : 8,
      "metadata" : {
        "cell.metadata.exec_info" : {
          "startTs" : 1572154024370,
          "endTs" : 1572154024427
        },
        "language" : "python"
      },
      "language" : "python",
      "source" : [
        "x"
      ],
      "outputs" : [
        {
          "execution_count" : 8,
          "data" : {
            "text/plain" : [
              "1"
            ]
          },
          "metadata" : {
            "name" : "Out",
            "type" : "Long"
          },
          "output_type" : "execute_result"
        }
      ]
    },
    {
      "cell_type" : "code",
      "execution_count" : 10,
      "metadata" : {
        "cell.metadata.exec_info" : {
          "startTs" : 1572154025719,
          "endTs" : 1572154025731
        },
        "language" : "python"
      },
      "language" : "python",
      "source" : [
        "y #defined y = 1 in earlier cell but deleted the cell\n",
        "  #\"no hidden state\" feature"
      ],
      "outputs" : [
        {
          "ename" : "java.lang.RuntimeException",
          "evalue" : "NameError: name 'y' is not defined",
          "traceback" : [
          ],
          "output_type" : "error"
        }
      ]
    }
  ]
}