{
 "cells": [
  {
   "cell_type": "markdown",
   "metadata": {},
   "source": [
    "# Dot Product"
   ]
  },
  {
   "cell_type": "markdown",
   "metadata": {},
   "source": [
    "``` \n",
    "Let's say we want to buy grocery and this is the amount we would like to buy:   \n",
    "\n",
    "Apple     : 3   \n",
    "Watermelon: 1   \n",
    "Avacado   : 3   \n",
    "Lemon     : 5   \n",
    "\n",
    "Here are the prices:\n",
    "\n",
    "Apple     : $2 each  \n",
    "Watermelon: $4 each      \n",
    "Avacado   : $1.5 each    \n",
    "Lemon     : $0.25 each    \n",
    "    \n",
    "   \n",
    "How much should we pay?   \n",
    "\n",
    "Apple     :  3 * $2   = $6   \n",
    "Watermelon:  1 * $4   = $4   \n",
    "Avacado   :  3 * $1.5 = $4.5   \n",
    "Lemon     :  5 * $.25 = $1.25   \n",
    "                      +   \n",
    "                      ________   \n",
    "               Total  = $15.75   \n",
    "\n",
    "How can we calculate it in Python?\n",
    "\n",
    "```"
   ]
  },
  {
   "cell_type": "code",
   "execution_count": 21,
   "metadata": {},
   "outputs": [
    {
     "name": "stdout",
     "output_type": "stream",
     "text": [
      "Amounts: \n",
      "{'Apple': 3, 'Watermelon': 1, 'Avacado': 3, 'Lemon': 5}\n",
      "Prices: \n",
      "{'Apple': 2, 'Watermelon': 4, 'Avacado': 1.5, 'Lemon': 0.25}\n"
     ]
    }
   ],
   "source": [
    "#Data First:\n",
    "amounts = {  'Apple'     : 3   \n",
    "            ,'Watermelon': 1   \n",
    "            ,'Avacado'   : 3   \n",
    "            ,'Lemon'     : 5 }\n",
    "print(\"Amounts: \")\n",
    "print(amounts)\n",
    "prices = {   'Apple'     : 2   \n",
    "            ,'Watermelon': 4   \n",
    "            ,'Avacado'   : 1.5   \n",
    "            ,'Lemon'     : .25 }\n",
    "print(\"Prices: \")\n",
    "print(prices)"
   ]
  },
  {
   "cell_type": "code",
   "execution_count": 22,
   "metadata": {},
   "outputs": [],
   "source": [
    "#Convert to list for calculation\n",
    "amounts_list = list(amounts.values())\n",
    "prices_list  = list(prices.values())"
   ]
  },
  {
   "cell_type": "code",
   "execution_count": 24,
   "metadata": {},
   "outputs": [
    {
     "data": {
      "text/plain": [
       "15.75"
      ]
     },
     "execution_count": 24,
     "metadata": {},
     "output_type": "execute_result"
    }
   ],
   "source": [
    "# With loop\n",
    "totals = []\n",
    "for a, p in zip(amounts_list,prices_list):\n",
    "    totals.append(a*p)\n",
    "sum(totals)"
   ]
  },
  {
   "cell_type": "code",
   "execution_count": 26,
   "metadata": {},
   "outputs": [
    {
     "data": {
      "text/plain": [
       "15.75"
      ]
     },
     "execution_count": 26,
     "metadata": {},
     "output_type": "execute_result"
    }
   ],
   "source": [
    "# A more Pythonic way -- same idea\n",
    "sum([a*p for a, p in zip(amounts_list,prices_list)])"
   ]
  },
  {
   "cell_type": "markdown",
   "metadata": {},
   "source": [
    "```\n",
    "In loops, the process goes like this:\n",
    "\n",
    "loop 1 —> 3 * 2      —> list = [6]\n",
    "loop 2 —> 1 * 4      —> list = [6, 4]\n",
    "loop 3 —> 3 * 1.5    —> list = [6, 4, 4.5]\n",
    "loop 4 —> 5 * .25    —> list = [6, 4, 4.5, 1.25]\n",
    "finally ...             sum  = (6 + 4 + 4.5 + 1.25)\n",
    "                        sum  = 15.75\n",
    "```"
   ]
  },
  {
   "cell_type": "code",
   "execution_count": 29,
   "metadata": {},
   "outputs": [],
   "source": [
    "# Dot product"
   ]
  },
  {
   "cell_type": "markdown",
   "metadata": {},
   "source": [
    "```\n",
    "\n",
    "In loops, the process goes like this (all calculations at once):\n",
    "\n",
    "(1 x 4 matrix) *  (4 x 1 matrix) = 1 x 1 matrix (or a single value)\n",
    "__________________________________________________________________________\n",
    "\n",
    "|3, 1, 3, 5|   *    |  2  |      = |(3*2)+(1*4)+(3*1.5)+(5*.25)| = |15.75|\n",
    "                    |  4  | \n",
    "                    | 1.5 |\n",
    "                    | .25 |\n",
    "\n",
    "```"
   ]
  },
  {
   "cell_type": "code",
   "execution_count": 32,
   "metadata": {},
   "outputs": [
    {
     "data": {
      "text/plain": [
       "15.75"
      ]
     },
     "execution_count": 32,
     "metadata": {},
     "output_type": "execute_result"
    }
   ],
   "source": [
    "# First, define arrays\n",
    "amounts_array = np.array(amounts_list)\n",
    "prices_array = np.array(prices_list)\n",
    "\n",
    "# Then the rest is easy!\n",
    "np.dot(amounts_array,prices_array)"
   ]
  },
  {
   "cell_type": "code",
   "execution_count": 35,
   "metadata": {},
   "outputs": [],
   "source": [
    "# Let's stress test it:\n",
    "\n",
    "import random\n",
    "random.seed(0)\n",
    "\n",
    "amounts_list = [random.randint(1,10) for i in range(1000000)]\n",
    "prices_list  = [random.randint(1,5)  for i in range(1000000)]"
   ]
  },
  {
   "cell_type": "code",
   "execution_count": 52,
   "metadata": {},
   "outputs": [
    {
     "name": "stdout",
     "output_type": "stream",
     "text": [
      "78.9 ms ± 334 µs per loop (mean ± std. dev. of 7 runs, 10 loops each)\n"
     ]
    }
   ],
   "source": [
    "%%timeit\n",
    "# With loop\n",
    "totals = []\n",
    "for a, p in zip(amounts_list,prices_list):\n",
    "    totals.append(a*p)\n",
    "sum(totals)"
   ]
  },
  {
   "cell_type": "code",
   "execution_count": 37,
   "metadata": {},
   "outputs": [
    {
     "name": "stdout",
     "output_type": "stream",
     "text": [
      "48.2 ms ± 485 µs per loop (mean ± std. dev. of 7 runs, 10 loops each)\n"
     ]
    }
   ],
   "source": [
    "%%timeit\n",
    "# With list comprehesion\n",
    "sum([a*p for a, p in zip(amounts_list,prices_list)])"
   ]
  },
  {
   "cell_type": "code",
   "execution_count": 49,
   "metadata": {},
   "outputs": [],
   "source": [
    "# What about pandas?\n",
    "import pandas as pd\n",
    "data = pd.DataFrame()\n",
    "data['amounts'] = amounts_list\n",
    "data['prices']  = prices_list"
   ]
  },
  {
   "cell_type": "code",
   "execution_count": 50,
   "metadata": {},
   "outputs": [
    {
     "name": "stdout",
     "output_type": "stream",
     "text": [
      "56 ms ± 367 µs per loop (mean ± std. dev. of 7 runs, 10 loops each)\n"
     ]
    }
   ],
   "source": [
    "%%timeit\n",
    "sum(data['amounts']*data['prices'])"
   ]
  },
  {
   "cell_type": "code",
   "execution_count": 51,
   "metadata": {},
   "outputs": [],
   "source": [
    "# Dot Product\n",
    "# First, define arrays\n",
    "amounts_array = np.array(amounts_list)\n",
    "prices_array  = np.array(prices_list)"
   ]
  },
  {
   "cell_type": "code",
   "execution_count": 40,
   "metadata": {},
   "outputs": [
    {
     "name": "stdout",
     "output_type": "stream",
     "text": [
      "651 µs ± 23.2 µs per loop (mean ± std. dev. of 7 runs, 1000 loops each)\n"
     ]
    }
   ],
   "source": [
    "%%timeit\n",
    "# Then the rest is easy!\n",
    "np.dot(amounts_array,prices_array)"
   ]
  },
  {
   "cell_type": "markdown",
   "metadata": {},
   "source": [
    "# Element Wise"
   ]
  },
  {
   "cell_type": "markdown",
   "metadata": {},
   "source": [
    "```\n",
    "Let's say we have a account recordes like the following day by day:   \n",
    "\n",
    "Revenue  |  Loss  | \n",
    "   $460  |  $110  |\n",
    "   $730  |  $125  |\n",
    "   $800  |  $140  |\n",
    "   $650  |  $90   |\n",
    "\n",
    "How much should we calculate the profits day by day?   \n",
    "\n",
    "      Profits           Profits     \n",
    "   $460 - $110            $350\n",
    "   $730 - $125   ==>      $605\n",
    "   $800 - $140            $660\n",
    "   $650 - $90             $560\n",
    "\n",
    "How can we calculate it in Python?\n",
    "```"
   ]
  },
  {
   "cell_type": "code",
   "execution_count": 56,
   "metadata": {},
   "outputs": [],
   "source": [
    "revenue =  [460, 730, 800, 650]\n",
    "loss    =  [100, 125, 140, 90 ]"
   ]
  },
  {
   "cell_type": "code",
   "execution_count": 57,
   "metadata": {},
   "outputs": [
    {
     "data": {
      "text/plain": [
       "[360, 605, 660, 560]"
      ]
     },
     "execution_count": 57,
     "metadata": {},
     "output_type": "execute_result"
    }
   ],
   "source": [
    "# With loop\n",
    "profit = []\n",
    "for r, l in zip(revenue,loss):\n",
    "    profit.append(r-l)\n",
    "profit"
   ]
  },
  {
   "cell_type": "code",
   "execution_count": 59,
   "metadata": {},
   "outputs": [
    {
     "data": {
      "text/plain": [
       "[360, 605, 660, 560]"
      ]
     },
     "execution_count": 59,
     "metadata": {},
     "output_type": "execute_result"
    }
   ],
   "source": [
    "# List Comprehesion\n",
    "[r - l for r, l in zip(revenue,loss)]"
   ]
  },
  {
   "cell_type": "code",
   "execution_count": 60,
   "metadata": {},
   "outputs": [],
   "source": [
    "# Pandas\n",
    "import pandas as pd\n",
    "data = pd.DataFrame()\n",
    "data['revenue'] = revenue\n",
    "data['loss']    = loss"
   ]
  },
  {
   "cell_type": "code",
   "execution_count": 62,
   "metadata": {},
   "outputs": [
    {
     "data": {
      "text/plain": [
       "[360, 605, 660, 560]"
      ]
     },
     "execution_count": 62,
     "metadata": {},
     "output_type": "execute_result"
    }
   ],
   "source": [
    "list(data['revenue'] - data['loss'])"
   ]
  },
  {
   "cell_type": "code",
   "execution_count": 68,
   "metadata": {},
   "outputs": [
    {
     "data": {
      "text/plain": [
       "array([360, 605, 660, 560])"
      ]
     },
     "execution_count": 68,
     "metadata": {},
     "output_type": "execute_result"
    }
   ],
   "source": [
    "# ElementWise\n",
    "revenue_array = np.array(revenue)\n",
    "loss_array    = np.array(loss)\n",
    "np.subtract(revenue_array, loss_array)"
   ]
  },
  {
   "cell_type": "code",
   "execution_count": 69,
   "metadata": {},
   "outputs": [],
   "source": [
    "# Let's stress test it:\n",
    "\n",
    "import random\n",
    "random.seed(0)\n",
    "\n",
    "revenue_list = [random.randint(100,1000) for i in range(1000000)]\n",
    "loss_list    = [random.randint(100,500)  for i in range(1000000)]"
   ]
  },
  {
   "cell_type": "code",
   "execution_count": 70,
   "metadata": {},
   "outputs": [
    {
     "name": "stdout",
     "output_type": "stream",
     "text": [
      "105 ms ± 2.37 ms per loop (mean ± std. dev. of 7 runs, 10 loops each)\n"
     ]
    }
   ],
   "source": [
    "%%timeit\n",
    "# With loop\n",
    "totals = []\n",
    "for r, l in zip(revenue_list,loss_list):\n",
    "    totals.append(r-l)"
   ]
  },
  {
   "cell_type": "code",
   "execution_count": 72,
   "metadata": {},
   "outputs": [
    {
     "name": "stdout",
     "output_type": "stream",
     "text": [
      "68.7 ms ± 632 µs per loop (mean ± std. dev. of 7 runs, 10 loops each)\n"
     ]
    }
   ],
   "source": [
    "%%timeit\n",
    "# With list comprehesion\n",
    "[r-l for r, l in zip(revenue_list,loss_list)]"
   ]
  },
  {
   "cell_type": "code",
   "execution_count": 73,
   "metadata": {},
   "outputs": [],
   "source": [
    "# pandas\n",
    "import pandas as pd\n",
    "data = pd.DataFrame()\n",
    "data['revenue'] = revenue_list\n",
    "data['loss']  = loss_list"
   ]
  },
  {
   "cell_type": "code",
   "execution_count": 74,
   "metadata": {},
   "outputs": [
    {
     "name": "stdout",
     "output_type": "stream",
     "text": [
      "2.22 ms ± 38.9 µs per loop (mean ± std. dev. of 7 runs, 100 loops each)\n"
     ]
    }
   ],
   "source": [
    "%%timeit\n",
    "data['revenue'] - data['loss']"
   ]
  },
  {
   "cell_type": "code",
   "execution_count": 75,
   "metadata": {},
   "outputs": [],
   "source": [
    "# Dot Product\n",
    "# First, define arrays\n",
    "amounts_array = np.array(amounts_list)\n",
    "prices_array  = np.array(prices_list)"
   ]
  },
  {
   "cell_type": "code",
   "execution_count": 76,
   "metadata": {},
   "outputs": [
    {
     "name": "stdout",
     "output_type": "stream",
     "text": [
      "650 µs ± 11.2 µs per loop (mean ± std. dev. of 7 runs, 1000 loops each)\n"
     ]
    }
   ],
   "source": [
    "%%timeit\n",
    "# Then the rest is easy!\n",
    "np.dot(amounts_array,prices_array)"
   ]
  },
  {
   "cell_type": "code",
   "execution_count": null,
   "metadata": {},
   "outputs": [],
   "source": []
  }
 ],
 "metadata": {
  "kernelspec": {
   "display_name": "Python 3",
   "language": "python",
   "name": "python3"
  },
  "language_info": {
   "codemirror_mode": {
    "name": "ipython",
    "version": 3
   },
   "file_extension": ".py",
   "mimetype": "text/x-python",
   "name": "python",
   "nbconvert_exporter": "python",
   "pygments_lexer": "ipython3",
   "version": "3.7.4"
  }
 },
 "nbformat": 4,
 "nbformat_minor": 2
}
