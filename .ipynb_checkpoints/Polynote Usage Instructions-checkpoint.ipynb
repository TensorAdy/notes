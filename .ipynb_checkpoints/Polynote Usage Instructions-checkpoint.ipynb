{
 "cells": [
  {
   "cell_type": "markdown",
   "metadata": {},
   "source": [
    "1. If you don't already have, go ahead and install docker from \n",
    "https://www.docker.com/products/docker-desktop"
   ]
  },
  {
   "cell_type": "markdown",
   "metadata": {},
   "source": [
    "2. Go to your Terminal and create folder:\n",
    "```\n",
    "$ mkdir ~/polynote-docker\n",
    "$ cd ~/polynote-docker\n",
    "```"
   ]
  },
  {
   "cell_type": "markdown",
   "metadata": {},
   "source": [
    "3. Create config.yml file:\n",
    "    * go to the \"polynote-docker\" file\n",
    "    * create a blank file named \"config.yml\"\n",
    "    * inside write: \n",
    "```\n",
    "    listen:\n",
    "         host: 0.0.0.0\n",
    "```\n",
    "    * save and close the \"config.yml\" file"
   ]
  },
  {
   "cell_type": "markdown",
   "metadata": {},
   "source": [
    "4. Make sure you are under \"polynote-docker\" folder where you created config.yml file. Then, Run:\n",
    "```\n",
    "$ docker run --rm -it -e PYSPARK_ALLOW_INSECURE_GATEWAY=1 -p 127.0.0.1:8192:8192 -p 127.0.0.1:4040-4050:4040-4050 -v `pwd`:/opt/config -v `pwd`/notebooks:/opt/polynote/notebooks/notebooks polynote/polynote:latest --config /opt/config/config.yml\n",
    "```"
   ]
  },
  {
   "cell_type": "markdown",
   "metadata": {},
   "source": [
    "5. Visit http://0.0.0.0:8192/. You should be up and running"
   ]
  },
  {
   "cell_type": "markdown",
   "metadata": {},
   "source": [
    "Visit https://github.com/polynote/polynote/tree/master/docker for more information"
   ]
  }
 ],
 "metadata": {
  "kernelspec": {
   "display_name": "Python 3",
   "language": "python",
   "name": "python3"
  },
  "language_info": {
   "codemirror_mode": {
    "name": "ipython",
    "version": 3
   },
   "file_extension": ".py",
   "mimetype": "text/x-python",
   "name": "python",
   "nbconvert_exporter": "python",
   "pygments_lexer": "ipython3",
   "version": "3.7.4"
  }
 },
 "nbformat": 4,
 "nbformat_minor": 2
}
