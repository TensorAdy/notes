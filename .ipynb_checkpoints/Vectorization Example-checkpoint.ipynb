{
 "cells": [
  {
   "cell_type": "markdown",
   "metadata": {},
   "source": [
    "# Dot Product"
   ]
  },
  {
   "cell_type": "markdown",
   "metadata": {},
   "source": [
    "``` \n",
    "Let's say we want to buy grocery and this is the amount we would like to buy:   \n",
    "\n",
    "Apple     : 3   \n",
    "Watermelon: 1   \n",
    "Avacado   : 3   \n",
    "Lemon     : 5   \n",
    "\n",
    "Here are the prices:\n",
    "\n",
    "Apple     : $2 each  \n",
    "Watermelon: $4 each      \n",
    "Avacado   : $1.5 each    \n",
    "Lemon     : $0.25 each    \n",
    "    \n",
    "   \n",
    "How much should we pay?   \n",
    "\n",
    "Apple     :  3 * $2   = $6   \n",
    "Watermelon:  1 * $4   = $4   \n",
    "Avacado   :  3 * $1.5 = $4.5   \n",
    "Lemon     :  5 * $.25 = $1.25   \n",
    "                      +   \n",
    "                      ________   \n",
    "               Total  = $15.75   \n",
    "\n",
    "How can we calculate it in Python?\n",
    "\n",
    "```"
   ]
  },
  {
   "cell_type": "code",
   "execution_count": 1,
   "metadata": {},
   "outputs": [
    {
     "name": "stdout",
     "output_type": "stream",
     "text": [
      "Amounts: \n",
      "{'Apple': 3, 'Watermelon': 1, 'Avacado': 3, 'Lemon': 5}\n",
      "Prices: \n",
      "{'Apple': 2, 'Watermelon': 4, 'Avacado': 1.5, 'Lemon': 0.25}\n"
     ]
    }
   ],
   "source": [
    "#Data First:\n",
    "amounts = {  'Apple'     : 3   \n",
    "            ,'Watermelon': 1   \n",
    "            ,'Avacado'   : 3   \n",
    "            ,'Lemon'     : 5 }\n",
    "print(\"Amounts: \")\n",
    "print(amounts)\n",
    "prices = {   'Apple'     : 2   \n",
    "            ,'Watermelon': 4   \n",
    "            ,'Avacado'   : 1.5   \n",
    "            ,'Lemon'     : .25 }\n",
    "print(\"Prices: \")\n",
    "print(prices)"
   ]
  },
  {
   "cell_type": "code",
   "execution_count": 2,
   "metadata": {},
   "outputs": [],
   "source": [
    "#Convert to list for calculation\n",
    "amounts_list = list(amounts.values())\n",
    "prices_list  = list(prices.values())"
   ]
  },
  {
   "cell_type": "code",
   "execution_count": 3,
   "metadata": {},
   "outputs": [
    {
     "data": {
      "text/plain": [
       "15.75"
      ]
     },
     "execution_count": 3,
     "metadata": {},
     "output_type": "execute_result"
    }
   ],
   "source": [
    "# With loop\n",
    "totals = []\n",
    "for a, p in zip(amounts_list,prices_list):\n",
    "    totals.append(a*p)\n",
    "sum(totals)"
   ]
  },
  {
   "cell_type": "code",
   "execution_count": 4,
   "metadata": {},
   "outputs": [
    {
     "data": {
      "text/plain": [
       "15.75"
      ]
     },
     "execution_count": 4,
     "metadata": {},
     "output_type": "execute_result"
    }
   ],
   "source": [
    "# With list comprehension\n",
    "sum([a*p for a, p in zip(amounts_list,prices_list)])"
   ]
  },
  {
   "cell_type": "markdown",
   "metadata": {},
   "source": [
    "```\n",
    "In loops, the process goes like this:\n",
    "\n",
    "loop 1 —> 3 * 2      —> list = [6]\n",
    "loop 2 —> 1 * 4      —> list = [6, 4]\n",
    "loop 3 —> 3 * 1.5    —> list = [6, 4, 4.5]\n",
    "loop 4 —> 5 * .25    —> list = [6, 4, 4.5, 1.25]\n",
    "finally ...             sum  = (6 + 4 + 4.5 + 1.25)\n",
    "                        sum  = 15.75\n",
    "```"
   ]
  },
  {
   "cell_type": "code",
   "execution_count": 5,
   "metadata": {},
   "outputs": [],
   "source": [
    "# Dot product"
   ]
  },
  {
   "cell_type": "markdown",
   "metadata": {},
   "source": [
    "```\n",
    "\n",
    "In dot product, the process goes like this (all calculations at once):\n",
    "\n",
    "(1 x 4 matrix) *  (4 x 1 matrix) = 1 x 1 matrix (or a single value)\n",
    "__________________________________________________________________________\n",
    "\n",
    "|3, 1, 3, 5|   *    |  2  |      = |(3*2)+(1*4)+(3*1.5)+(5*.25)| = |15.75|\n",
    "                    |  4  | \n",
    "                    | 1.5 |\n",
    "                    | .25 |\n",
    "\n",
    "```"
   ]
  },
  {
   "cell_type": "code",
   "execution_count": 6,
   "metadata": {},
   "outputs": [
    {
     "data": {
      "text/plain": [
       "15.75"
      ]
     },
     "execution_count": 6,
     "metadata": {},
     "output_type": "execute_result"
    }
   ],
   "source": [
    "# With numpy\n",
    "import numpy as np\n",
    "# First convert to array\n",
    "amounts_array = np.array(amounts_list)\n",
    "prices_array = np.array(prices_list)\n",
    "\n",
    "# Then the rest is easy!\n",
    "\n",
    "np.dot(amounts_array,prices_array)"
   ]
  },
  {
   "cell_type": "markdown",
   "metadata": {},
   "source": [
    "# Let's stress test and time"
   ]
  },
  {
   "cell_type": "code",
   "execution_count": 7,
   "metadata": {},
   "outputs": [],
   "source": [
    "import random\n",
    "random.seed(0)\n",
    "\n",
    "amounts_list = [random.randint(1,10) for i in range(1000000)]\n",
    "prices_list  = [random.randint(1,5)  for i in range(1000000)]"
   ]
  },
  {
   "cell_type": "code",
   "execution_count": 8,
   "metadata": {},
   "outputs": [
    {
     "name": "stdout",
     "output_type": "stream",
     "text": [
      "0.13809919357299805\n"
     ]
    }
   ],
   "source": [
    "import time\n",
    "start_time = time.time()\n",
    "# With loop\n",
    "totals = []\n",
    "for a, p in zip(amounts_list,prices_list):\n",
    "    totals.append(a*p)\n",
    "sum(totals)\n",
    "timeloop = time.time()-start_time\n",
    "print(timeloop)"
   ]
  },
  {
   "cell_type": "code",
   "execution_count": 9,
   "metadata": {},
   "outputs": [
    {
     "name": "stdout",
     "output_type": "stream",
     "text": [
      "0.05649614334106445\n"
     ]
    }
   ],
   "source": [
    "start_time = time.time()\n",
    "\n",
    "# With list comprehesion\n",
    "sum([a*p for a, p in zip(amounts_list,prices_list)])\n",
    "\n",
    "timelistcomp = time.time()-start_time\n",
    "print(timelistcomp)"
   ]
  },
  {
   "cell_type": "code",
   "execution_count": 10,
   "metadata": {},
   "outputs": [
    {
     "name": "stdout",
     "output_type": "stream",
     "text": [
      "0.059909820556640625\n"
     ]
    }
   ],
   "source": [
    "# What about pandas?\n",
    "import pandas as pd\n",
    "data = pd.DataFrame()\n",
    "data['amounts'] = amounts_list\n",
    "data['prices']  = prices_list\n",
    "\n",
    "start_time = time.time()\n",
    "\n",
    "sum(data['amounts']*data['prices'])\n",
    "\n",
    "timepandas = time.time()-start_time\n",
    "\n",
    "print(timepandas)"
   ]
  },
  {
   "cell_type": "code",
   "execution_count": 11,
   "metadata": {},
   "outputs": [
    {
     "name": "stdout",
     "output_type": "stream",
     "text": [
      "0.0011363029479980469\n"
     ]
    }
   ],
   "source": [
    "# Dot Product\n",
    "# First, define arrays\n",
    "amounts_array = np.array(amounts_list)\n",
    "prices_array  = np.array(prices_list)\n",
    "\n",
    "start_time = time.time()\n",
    "\n",
    "np.dot(amounts_array,prices_array)\n",
    "\n",
    "timenumpy = time.time()-start_time\n",
    "print(timenumpy)"
   ]
  },
  {
   "cell_type": "code",
   "execution_count": 12,
   "metadata": {},
   "outputs": [
    {
     "data": {
      "image/png": "[encoded data removed]",
      "text/plain": [
       "<Figure size 640x480 with 1 Axes>"
      ]
     },
     "metadata": {},
     "output_type": "display_data"
    }
   ],
   "source": [
    "%matplotlib inline\n",
    "import matplotlib.pyplot as plt; plt.rcdefaults()\n",
    "import numpy as np\n",
    "import matplotlib.pyplot as plt\n",
    "\n",
    "\n",
    "objects = ('Loop', 'List comprehension', 'Pandas', 'Numpy')\n",
    "y_pos = np.arange(len(objects))\n",
    "performance = [timeloop,timelistcomp,timepandas,timenumpy]\n",
    "\n",
    "plt.bar(y_pos, performance, align='center', alpha=0.5)\n",
    "plt.xticks(y_pos, objects)\n",
    "plt.ylabel('Execution Time (lower is better)')\n",
    "plt.title('Dot Product Execution Times by Data Type')\n",
    "plt.show()"
   ]
  },
  {
   "cell_type": "markdown",
   "metadata": {},
   "source": [
    "# Element Wise"
   ]
  },
  {
   "cell_type": "markdown",
   "metadata": {},
   "source": [
    "```\n",
    "Let's say we have a account recordes like the following day by day:   \n",
    "\n",
    "Revenue  |  Loss  | \n",
    "   $460  |  $110  |\n",
    "   $730  |  $125  |\n",
    "   $800  |  $140  |\n",
    "   $650  |  $90   |\n",
    "\n",
    "How much should we calculate the profits day by day?   \n",
    "\n",
    "      Profits           Profits     \n",
    "   $460 - $110            $350\n",
    "   $730 - $125   ==>      $605\n",
    "   $800 - $140            $660\n",
    "   $650 - $90             $560\n",
    "\n",
    "How can we calculate it in Python?\n",
    "```"
   ]
  },
  {
   "cell_type": "code",
   "execution_count": 13,
   "metadata": {},
   "outputs": [],
   "source": [
    "revenue =  [460, 730, 800, 650]\n",
    "loss    =  [100, 125, 140, 90 ]"
   ]
  },
  {
   "cell_type": "code",
   "execution_count": 14,
   "metadata": {},
   "outputs": [
    {
     "data": {
      "text/plain": [
       "[360, 605, 660, 560]"
      ]
     },
     "execution_count": 14,
     "metadata": {},
     "output_type": "execute_result"
    }
   ],
   "source": [
    "# With loop\n",
    "profit = []\n",
    "for r, l in zip(revenue,loss):\n",
    "    profit.append(r-l)\n",
    "profit"
   ]
  },
  {
   "cell_type": "code",
   "execution_count": 15,
   "metadata": {},
   "outputs": [
    {
     "data": {
      "text/plain": [
       "[360, 605, 660, 560]"
      ]
     },
     "execution_count": 15,
     "metadata": {},
     "output_type": "execute_result"
    }
   ],
   "source": [
    "# List Comprehesion\n",
    "[r - l for r, l in zip(revenue,loss)]"
   ]
  },
  {
   "cell_type": "code",
   "execution_count": 16,
   "metadata": {},
   "outputs": [],
   "source": [
    "# Pandas\n",
    "import pandas as pd\n",
    "data = pd.DataFrame()\n",
    "data['revenue'] = revenue\n",
    "data['loss']    = loss"
   ]
  },
  {
   "cell_type": "code",
   "execution_count": 17,
   "metadata": {},
   "outputs": [
    {
     "data": {
      "text/plain": [
       "[360, 605, 660, 560]"
      ]
     },
     "execution_count": 17,
     "metadata": {},
     "output_type": "execute_result"
    }
   ],
   "source": [
    "list(data['revenue'] - data['loss'])"
   ]
  },
  {
   "cell_type": "code",
   "execution_count": 18,
   "metadata": {},
   "outputs": [
    {
     "data": {
      "text/plain": [
       "array([360, 605, 660, 560])"
      ]
     },
     "execution_count": 18,
     "metadata": {},
     "output_type": "execute_result"
    }
   ],
   "source": [
    "# ElementWise\n",
    "revenue_array = np.array(revenue)\n",
    "loss_array    = np.array(loss)\n",
    "np.subtract(revenue_array, loss_array)"
   ]
  },
  {
   "cell_type": "code",
   "execution_count": 19,
   "metadata": {},
   "outputs": [],
   "source": [
    "# Let's stress test it:\n",
    "import random\n",
    "random.seed(0)\n",
    "\n",
    "revenue_list = [random.randint(100,1000) for i in range(1000000)]\n",
    "loss_list    = [random.randint(100,500)  for i in range(1000000)]"
   ]
  },
  {
   "cell_type": "code",
   "execution_count": 20,
   "metadata": {},
   "outputs": [
    {
     "name": "stdout",
     "output_type": "stream",
     "text": [
      "0.16257381439208984\n"
     ]
    }
   ],
   "source": [
    "# With loop\n",
    "start_time = time.time()\n",
    "\n",
    "totals = []\n",
    "for r, l in zip(revenue_list,loss_list):\n",
    "    totals.append(r-l)\n",
    "\n",
    "timeloop = time.time()-start_time\n",
    "\n",
    "print(timeloop)"
   ]
  },
  {
   "cell_type": "code",
   "execution_count": 21,
   "metadata": {},
   "outputs": [
    {
     "name": "stdout",
     "output_type": "stream",
     "text": [
      "0.10752105712890625\n"
     ]
    }
   ],
   "source": [
    "start_time = time.time()\n",
    "\n",
    "# With list comprehesion\n",
    "[r-l for r, l in zip(revenue_list,loss_list)]\n",
    "\n",
    "timelistcomp = time.time()-start_time\n",
    "\n",
    "print(timelistcomp)"
   ]
  },
  {
   "cell_type": "code",
   "execution_count": 22,
   "metadata": {},
   "outputs": [],
   "source": [
    "# pandas\n",
    "import pandas as pd\n",
    "data = pd.DataFrame()\n",
    "data['revenue'] = revenue_list\n",
    "data['loss']  = loss_list"
   ]
  },
  {
   "cell_type": "code",
   "execution_count": 23,
   "metadata": {},
   "outputs": [
    {
     "name": "stdout",
     "output_type": "stream",
     "text": [
      "0.0030829906463623047\n"
     ]
    }
   ],
   "source": [
    "start_time = time.time()\n",
    "\n",
    "data['revenue'] - data['loss']\n",
    "\n",
    "timepandas = time.time()-start_time\n",
    "print(timepandas)"
   ]
  },
  {
   "cell_type": "code",
   "execution_count": 24,
   "metadata": {},
   "outputs": [],
   "source": [
    "# Dot Product\n",
    "# First, define arrays\n",
    "amounts_array = np.array(amounts_list)\n",
    "prices_array  = np.array(prices_list)"
   ]
  },
  {
   "cell_type": "code",
   "execution_count": 25,
   "metadata": {},
   "outputs": [
    {
     "name": "stdout",
     "output_type": "stream",
     "text": [
      "0.0011479854583740234\n"
     ]
    }
   ],
   "source": [
    "start_time = time.time()\n",
    "# Then the rest is easy!\n",
    "np.dot(amounts_array,prices_array)\n",
    "\n",
    "timenumpy = time.time()-start_time\n",
    "print(timenumpy)"
   ]
  },
  {
   "cell_type": "code",
   "execution_count": 26,
   "metadata": {},
   "outputs": [
    {
     "data": {
      "image/png": "[encoded data removed]",
      "text/plain": [
       "<Figure size 640x480 with 1 Axes>"
      ]
     },
     "metadata": {},
     "output_type": "display_data"
    }
   ],
   "source": [
    "import matplotlib.pyplot as plt; plt.rcdefaults()\n",
    "import numpy as np\n",
    "import matplotlib.pyplot as plt\n",
    "\n",
    "objects = ('Loop', 'List comprehension', 'Pandas', 'Numpy')\n",
    "y_pos = np.arange(len(objects))\n",
    "performance = [timeloop,timelistcomp,timepandas,timenumpy]\n",
    "\n",
    "plt.bar(y_pos, performance, align='center', alpha=0.5)\n",
    "plt.xticks(y_pos, objects)\n",
    "plt.ylabel('Execution Time (lower is better)')\n",
    "plt.title('Element-Wise Execution Times by Data Type')\n",
    "\n",
    "plt.show()"
   ]
  },
  {
   "attachments": {
    "image.png": {
     "image/png": "[encoded data removed]"
    }
   },
   "cell_type": "markdown",
   "metadata": {},
   "source": [
    "# Real life example from Stack Overflow:\n",
    "\n",
    "Challenge is to calculate haversine distance given lat,longs of two points on a map\n",
    "\n",
    "link: https://stackoverflow.com/questions/29545704/fast-haversine-approximation-python-pandas\n",
    "\n",
    "Haversine formula (from Wikipedia):\n",
    "\n",
    "![image.png](attachment:image.png)"
   ]
  },
  {
   "cell_type": "code",
   "execution_count": 27,
   "metadata": {},
   "outputs": [],
   "source": [
    "# Create data\n",
    "import numpy as np\n",
    "np.random.seed(0)\n",
    "import pandas as pd\n",
    "df = pd.DataFrame()\n",
    "df['a_longitude'] = np.random.randint(-950000,-900000,1000000) / 10000\n",
    "df['a_latitude' ] = np.random.randint( 300000, 350000,1000000) / 10000\n",
    "df['b_longitude'] = np.random.randint(-950000,-900000,1000000) / 10000\n",
    "df['b_latitude' ] = np.random.randint( 300000, 350000,1000000) / 10000\n"
   ]
  },
  {
   "cell_type": "code",
   "execution_count": 28,
   "metadata": {},
   "outputs": [
    {
     "data": {
      "text/plain": [
       "(1000000, 4)"
      ]
     },
     "execution_count": 28,
     "metadata": {},
     "output_type": "execute_result"
    }
   ],
   "source": [
    "df.shape"
   ]
  },
  {
   "cell_type": "code",
   "execution_count": 29,
   "metadata": {},
   "outputs": [
    {
     "data": {
      "text/html": [
       "<div>\n",
       "<style scoped>\n",
       "    .dataframe tbody tr th:only-of-type {\n",
       "        vertical-align: middle;\n",
       "    }\n",
       "\n",
       "    .dataframe tbody tr th {\n",
       "        vertical-align: top;\n",
       "    }\n",
       "\n",
       "    .dataframe thead th {\n",
       "        text-align: right;\n",
       "    }\n",
       "</style>\n",
       "<table border=\"1\" class=\"dataframe\">\n",
       "  <thead>\n",
       "    <tr style=\"text-align: right;\">\n",
       "      <th></th>\n",
       "      <th>a_longitude</th>\n",
       "      <th>a_latitude</th>\n",
       "      <th>b_longitude</th>\n",
       "      <th>b_latitude</th>\n",
       "    </tr>\n",
       "  </thead>\n",
       "  <tbody>\n",
       "    <tr>\n",
       "      <td>0</td>\n",
       "      <td>-94.7268</td>\n",
       "      <td>31.3549</td>\n",
       "      <td>-94.2321</td>\n",
       "      <td>31.6288</td>\n",
       "    </tr>\n",
       "    <tr>\n",
       "      <td>1</td>\n",
       "      <td>-90.6433</td>\n",
       "      <td>31.3535</td>\n",
       "      <td>-93.8075</td>\n",
       "      <td>33.5937</td>\n",
       "    </tr>\n",
       "    <tr>\n",
       "      <td>2</td>\n",
       "      <td>-90.7387</td>\n",
       "      <td>30.4422</td>\n",
       "      <td>-90.4240</td>\n",
       "      <td>34.1296</td>\n",
       "    </tr>\n",
       "    <tr>\n",
       "      <td>3</td>\n",
       "      <td>-90.4109</td>\n",
       "      <td>31.2681</td>\n",
       "      <td>-94.0681</td>\n",
       "      <td>31.9378</td>\n",
       "    </tr>\n",
       "    <tr>\n",
       "      <td>4</td>\n",
       "      <td>-92.8757</td>\n",
       "      <td>32.9306</td>\n",
       "      <td>-91.3825</td>\n",
       "      <td>30.7934</td>\n",
       "    </tr>\n",
       "  </tbody>\n",
       "</table>\n",
       "</div>"
      ],
      "text/plain": [
       "   a_longitude  a_latitude  b_longitude  b_latitude\n",
       "0     -94.7268     31.3549     -94.2321     31.6288\n",
       "1     -90.6433     31.3535     -93.8075     33.5937\n",
       "2     -90.7387     30.4422     -90.4240     34.1296\n",
       "3     -90.4109     31.2681     -94.0681     31.9378\n",
       "4     -92.8757     32.9306     -91.3825     30.7934"
      ]
     },
     "execution_count": 29,
     "metadata": {},
     "output_type": "execute_result"
    }
   ],
   "source": [
    "df.head()"
   ]
  },
  {
   "cell_type": "code",
   "execution_count": 30,
   "metadata": {},
   "outputs": [
    {
     "name": "stdout",
     "output_type": "stream",
     "text": [
      "Execution Time:\n",
      "406.5747740268707\n"
     ]
    }
   ],
   "source": [
    "import time\n",
    "\n",
    "# Pandas solution (from the Stackoverflow)\n",
    "from math import radians, cos, sin, asin, sqrt\n",
    "def haversine(lon1, lat1, lon2, lat2):\n",
    "    \"\"\"\n",
    "    Calculate the great circle distance between two points \n",
    "    on the earth (specified in decimal degrees)\n",
    "    \"\"\"\n",
    "    # convert decimal degrees to radians \n",
    "    lon1, lat1, lon2, lat2 = map(radians, [lon1, lat1, lon2, lat2])\n",
    "    # haversine formula \n",
    "    dlon = lon2 - lon1 \n",
    "    dlat = lat2 - lat1 \n",
    "    a = sin(dlat/2)**2 + cos(lat1) * cos(lat2) * sin(dlon/2)**2\n",
    "    c = 2 * asin(sqrt(a)) \n",
    "    km = 6367 * c\n",
    "    return km\n",
    "\n",
    "start_time = time.time()\n",
    "for index, row in df.iterrows():\n",
    "    df.loc[index, 'distance'] = haversine(row['a_longitude'], row['a_latitude'], row['b_longitude'], row['b_latitude'])\n",
    "\n",
    "print(\"Execution Time:\")\n",
    "print(time.time()-start_time)"
   ]
  },
  {
   "cell_type": "code",
   "execution_count": 31,
   "metadata": {},
   "outputs": [
    {
     "data": {
      "text/html": [
       "<div>\n",
       "<style scoped>\n",
       "    .dataframe tbody tr th:only-of-type {\n",
       "        vertical-align: middle;\n",
       "    }\n",
       "\n",
       "    .dataframe tbody tr th {\n",
       "        vertical-align: top;\n",
       "    }\n",
       "\n",
       "    .dataframe thead th {\n",
       "        text-align: right;\n",
       "    }\n",
       "</style>\n",
       "<table border=\"1\" class=\"dataframe\">\n",
       "  <thead>\n",
       "    <tr style=\"text-align: right;\">\n",
       "      <th></th>\n",
       "      <th>a_longitude</th>\n",
       "      <th>a_latitude</th>\n",
       "      <th>b_longitude</th>\n",
       "      <th>b_latitude</th>\n",
       "      <th>distance</th>\n",
       "    </tr>\n",
       "  </thead>\n",
       "  <tbody>\n",
       "    <tr>\n",
       "      <td>0</td>\n",
       "      <td>-94.7268</td>\n",
       "      <td>31.3549</td>\n",
       "      <td>-94.2321</td>\n",
       "      <td>31.6288</td>\n",
       "      <td>55.891332</td>\n",
       "    </tr>\n",
       "    <tr>\n",
       "      <td>1</td>\n",
       "      <td>-90.6433</td>\n",
       "      <td>31.3535</td>\n",
       "      <td>-93.8075</td>\n",
       "      <td>33.5937</td>\n",
       "      <td>387.217764</td>\n",
       "    </tr>\n",
       "    <tr>\n",
       "      <td>2</td>\n",
       "      <td>-90.7387</td>\n",
       "      <td>30.4422</td>\n",
       "      <td>-90.4240</td>\n",
       "      <td>34.1296</td>\n",
       "      <td>410.827081</td>\n",
       "    </tr>\n",
       "    <tr>\n",
       "      <td>3</td>\n",
       "      <td>-90.4109</td>\n",
       "      <td>31.2681</td>\n",
       "      <td>-94.0681</td>\n",
       "      <td>31.9378</td>\n",
       "      <td>354.026672</td>\n",
       "    </tr>\n",
       "    <tr>\n",
       "      <td>4</td>\n",
       "      <td>-92.8757</td>\n",
       "      <td>32.9306</td>\n",
       "      <td>-91.3825</td>\n",
       "      <td>30.7934</td>\n",
       "      <td>276.153091</td>\n",
       "    </tr>\n",
       "  </tbody>\n",
       "</table>\n",
       "</div>"
      ],
      "text/plain": [
       "   a_longitude  a_latitude  b_longitude  b_latitude    distance\n",
       "0     -94.7268     31.3549     -94.2321     31.6288   55.891332\n",
       "1     -90.6433     31.3535     -93.8075     33.5937  387.217764\n",
       "2     -90.7387     30.4422     -90.4240     34.1296  410.827081\n",
       "3     -90.4109     31.2681     -94.0681     31.9378  354.026672\n",
       "4     -92.8757     32.9306     -91.3825     30.7934  276.153091"
      ]
     },
     "execution_count": 31,
     "metadata": {},
     "output_type": "execute_result"
    }
   ],
   "source": [
    "df.head()"
   ]
  },
  {
   "cell_type": "code",
   "execution_count": 32,
   "metadata": {},
   "outputs": [
    {
     "name": "stdout",
     "output_type": "stream",
     "text": [
      "Execution Time:\n",
      "0.09102392196655273\n"
     ]
    }
   ],
   "source": [
    "# numpy solution (from the Stackoverflow)\n",
    "\n",
    "def haversine_np(lon1, lat1, lon2, lat2):\n",
    "    \"\"\"\n",
    "    Calculate the great circle distance between two points\n",
    "    on the earth (specified in decimal degrees)\n",
    "\n",
    "    All args must be of equal length.    \n",
    "\n",
    "    \"\"\"\n",
    "    lon1, lat1, lon2, lat2 = map(np.radians, [lon1, lat1, lon2, lat2])\n",
    "\n",
    "    dlon = lon2 - lon1\n",
    "    dlat = lat2 - lat1\n",
    "\n",
    "    a = np.sin(dlat/2.0)**2 + np.cos(lat1) * np.cos(lat2) * np.sin(dlon/2.0)**2\n",
    "\n",
    "    c = 2 * np.arcsin(np.sqrt(a))\n",
    "    km = 6367 * c\n",
    "    return km\n",
    "\n",
    "start_time = time.time()\n",
    "df['distance'] = haversine_np(df['a_longitude'].values, df['a_latitude'].values, df['b_longitude'].values, df['b_latitude'].values)\n",
    "print(\"Execution Time:\")\n",
    "print(time.time()-start_time)"
   ]
  },
  {
   "cell_type": "code",
   "execution_count": 33,
   "metadata": {},
   "outputs": [
    {
     "data": {
      "text/html": [
       "<div>\n",
       "<style scoped>\n",
       "    .dataframe tbody tr th:only-of-type {\n",
       "        vertical-align: middle;\n",
       "    }\n",
       "\n",
       "    .dataframe tbody tr th {\n",
       "        vertical-align: top;\n",
       "    }\n",
       "\n",
       "    .dataframe thead th {\n",
       "        text-align: right;\n",
       "    }\n",
       "</style>\n",
       "<table border=\"1\" class=\"dataframe\">\n",
       "  <thead>\n",
       "    <tr style=\"text-align: right;\">\n",
       "      <th></th>\n",
       "      <th>a_longitude</th>\n",
       "      <th>a_latitude</th>\n",
       "      <th>b_longitude</th>\n",
       "      <th>b_latitude</th>\n",
       "      <th>distance</th>\n",
       "    </tr>\n",
       "  </thead>\n",
       "  <tbody>\n",
       "    <tr>\n",
       "      <td>0</td>\n",
       "      <td>-94.7268</td>\n",
       "      <td>31.3549</td>\n",
       "      <td>-94.2321</td>\n",
       "      <td>31.6288</td>\n",
       "      <td>55.891332</td>\n",
       "    </tr>\n",
       "    <tr>\n",
       "      <td>1</td>\n",
       "      <td>-90.6433</td>\n",
       "      <td>31.3535</td>\n",
       "      <td>-93.8075</td>\n",
       "      <td>33.5937</td>\n",
       "      <td>387.217764</td>\n",
       "    </tr>\n",
       "    <tr>\n",
       "      <td>2</td>\n",
       "      <td>-90.7387</td>\n",
       "      <td>30.4422</td>\n",
       "      <td>-90.4240</td>\n",
       "      <td>34.1296</td>\n",
       "      <td>410.827081</td>\n",
       "    </tr>\n",
       "    <tr>\n",
       "      <td>3</td>\n",
       "      <td>-90.4109</td>\n",
       "      <td>31.2681</td>\n",
       "      <td>-94.0681</td>\n",
       "      <td>31.9378</td>\n",
       "      <td>354.026672</td>\n",
       "    </tr>\n",
       "    <tr>\n",
       "      <td>4</td>\n",
       "      <td>-92.8757</td>\n",
       "      <td>32.9306</td>\n",
       "      <td>-91.3825</td>\n",
       "      <td>30.7934</td>\n",
       "      <td>276.153091</td>\n",
       "    </tr>\n",
       "  </tbody>\n",
       "</table>\n",
       "</div>"
      ],
      "text/plain": [
       "   a_longitude  a_latitude  b_longitude  b_latitude    distance\n",
       "0     -94.7268     31.3549     -94.2321     31.6288   55.891332\n",
       "1     -90.6433     31.3535     -93.8075     33.5937  387.217764\n",
       "2     -90.7387     30.4422     -90.4240     34.1296  410.827081\n",
       "3     -90.4109     31.2681     -94.0681     31.9378  354.026672\n",
       "4     -92.8757     32.9306     -91.3825     30.7934  276.153091"
      ]
     },
     "execution_count": 33,
     "metadata": {},
     "output_type": "execute_result"
    }
   ],
   "source": [
    "df.head()"
   ]
  },
  {
   "cell_type": "markdown",
   "metadata": {},
   "source": [
    "# Different Element-Wise operations"
   ]
  },
  {
   "cell_type": "code",
   "execution_count": 34,
   "metadata": {},
   "outputs": [],
   "source": [
    "a = np.arange(1,6)\n",
    "b = np.arange(6,11)"
   ]
  },
  {
   "cell_type": "code",
   "execution_count": 35,
   "metadata": {},
   "outputs": [
    {
     "data": {
      "text/plain": [
       "(array([1, 2, 3, 4, 5]), array([ 6,  7,  8,  9, 10]))"
      ]
     },
     "execution_count": 35,
     "metadata": {},
     "output_type": "execute_result"
    }
   ],
   "source": [
    "a,b"
   ]
  },
  {
   "cell_type": "code",
   "execution_count": 36,
   "metadata": {},
   "outputs": [
    {
     "data": {
      "text/plain": [
       "array([ 7,  9, 11, 13, 15])"
      ]
     },
     "execution_count": 36,
     "metadata": {},
     "output_type": "execute_result"
    }
   ],
   "source": [
    "# Total\n",
    "a + b"
   ]
  },
  {
   "cell_type": "code",
   "execution_count": 37,
   "metadata": {},
   "outputs": [
    {
     "data": {
      "text/plain": [
       "array([-5, -5, -5, -5, -5])"
      ]
     },
     "execution_count": 37,
     "metadata": {},
     "output_type": "execute_result"
    }
   ],
   "source": [
    "# Subtract\n",
    "a - b"
   ]
  },
  {
   "cell_type": "code",
   "execution_count": 38,
   "metadata": {},
   "outputs": [
    {
     "data": {
      "text/plain": [
       "array([ 6, 14, 24, 36, 50])"
      ]
     },
     "execution_count": 38,
     "metadata": {},
     "output_type": "execute_result"
    }
   ],
   "source": [
    "# Multiply\n",
    "a * b"
   ]
  },
  {
   "cell_type": "code",
   "execution_count": 39,
   "metadata": {},
   "outputs": [
    {
     "data": {
      "text/plain": [
       "array([0.16666667, 0.28571429, 0.375     , 0.44444444, 0.5       ])"
      ]
     },
     "execution_count": 39,
     "metadata": {},
     "output_type": "execute_result"
    }
   ],
   "source": [
    "# Divide\n",
    "a / b"
   ]
  },
  {
   "cell_type": "code",
   "execution_count": 40,
   "metadata": {},
   "outputs": [
    {
     "data": {
      "text/plain": [
       "array([4, 5, 6, 7, 8])"
      ]
     },
     "execution_count": 40,
     "metadata": {},
     "output_type": "execute_result"
    }
   ],
   "source": [
    "# Add 3 to all\n",
    "a + 3"
   ]
  },
  {
   "cell_type": "code",
   "execution_count": 41,
   "metadata": {},
   "outputs": [
    {
     "data": {
      "text/plain": [
       "(array([6, 3, 2, 2, 2]), array([0, 0, 0, 0, 0]))"
      ]
     },
     "execution_count": 41,
     "metadata": {},
     "output_type": "execute_result"
    }
   ],
   "source": [
    "# Floor division\n",
    "b // a, a // b"
   ]
  },
  {
   "cell_type": "code",
   "execution_count": 42,
   "metadata": {},
   "outputs": [
    {
     "data": {
      "text/plain": [
       "array([0, 1, 2, 1, 0])"
      ]
     },
     "execution_count": 42,
     "metadata": {},
     "output_type": "execute_result"
    }
   ],
   "source": [
    "# Modulus, the rest after division\n",
    "b % a"
   ]
  },
  {
   "cell_type": "code",
   "execution_count": 43,
   "metadata": {},
   "outputs": [
    {
     "data": {
      "text/plain": [
       "array([False, False, False, False, False])"
      ]
     },
     "execution_count": 43,
     "metadata": {},
     "output_type": "execute_result"
    }
   ],
   "source": [
    "a == b"
   ]
  },
  {
   "cell_type": "code",
   "execution_count": 44,
   "metadata": {},
   "outputs": [],
   "source": [
    "# Single array"
   ]
  },
  {
   "cell_type": "code",
   "execution_count": 45,
   "metadata": {},
   "outputs": [
    {
     "data": {
      "text/plain": [
       "array([2, 3, 4, 5, 6])"
      ]
     },
     "execution_count": 45,
     "metadata": {},
     "output_type": "execute_result"
    }
   ],
   "source": [
    "a + 1"
   ]
  },
  {
   "cell_type": "code",
   "execution_count": 46,
   "metadata": {},
   "outputs": [
    {
     "data": {
      "text/plain": [
       "array([2, 3, 4, 5, 6])"
      ]
     },
     "execution_count": 46,
     "metadata": {},
     "output_type": "execute_result"
    }
   ],
   "source": [
    "# Or\n",
    "a += 1\n",
    "a"
   ]
  },
  {
   "cell_type": "code",
   "execution_count": 47,
   "metadata": {},
   "outputs": [
    {
     "data": {
      "text/plain": [
       "array([1, 2, 3, 4, 5])"
      ]
     },
     "execution_count": 47,
     "metadata": {},
     "output_type": "execute_result"
    }
   ],
   "source": [
    "a -= 1\n",
    "a"
   ]
  },
  {
   "cell_type": "code",
   "execution_count": 48,
   "metadata": {},
   "outputs": [
    {
     "data": {
      "text/plain": [
       "array([ 0.84147098,  0.90929743,  0.14112001, -0.7568025 , -0.95892427])"
      ]
     },
     "execution_count": 48,
     "metadata": {},
     "output_type": "execute_result"
    }
   ],
   "source": [
    "np.sin(a)"
   ]
  },
  {
   "cell_type": "code",
   "execution_count": 49,
   "metadata": {},
   "outputs": [
    {
     "data": {
      "text/plain": [
       "array([ 0.54030231, -0.41614684, -0.9899925 , -0.65364362,  0.28366219])"
      ]
     },
     "execution_count": 49,
     "metadata": {},
     "output_type": "execute_result"
    }
   ],
   "source": [
    "np.cos(a)"
   ]
  },
  {
   "cell_type": "code",
   "execution_count": 50,
   "metadata": {},
   "outputs": [
    {
     "data": {
      "text/plain": [
       "array([0.        , 0.69314718, 1.09861229, 1.38629436, 1.60943791])"
      ]
     },
     "execution_count": 50,
     "metadata": {},
     "output_type": "execute_result"
    }
   ],
   "source": [
    "np.log(a)"
   ]
  },
  {
   "cell_type": "code",
   "execution_count": 51,
   "metadata": {},
   "outputs": [
    {
     "data": {
      "text/plain": [
       "array([  2.71828183,   7.3890561 ,  20.08553692,  54.59815003,\n",
       "       148.4131591 ])"
      ]
     },
     "execution_count": 51,
     "metadata": {},
     "output_type": "execute_result"
    }
   ],
   "source": [
    "np.exp(a)"
   ]
  },
  {
   "cell_type": "code",
   "execution_count": null,
   "metadata": {},
   "outputs": [],
   "source": []
  }
 ],
 "metadata": {
  "kernelspec": {
   "display_name": "Python 3",
   "language": "python",
   "name": "python3"
  },
  "language_info": {
   "codemirror_mode": {
    "name": "ipython",
    "version": 3
   },
   "file_extension": ".py",
   "mimetype": "text/x-python",
   "name": "python",
   "nbconvert_exporter": "python",
   "pygments_lexer": "ipython3",
   "version": "3.7.4"
  }
 },
 "nbformat": 4,
 "nbformat_minor": 2
}
