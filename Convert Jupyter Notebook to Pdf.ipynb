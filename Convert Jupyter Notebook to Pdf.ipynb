{
  "cells": [
    {
      "cell_type": "markdown",
      "source": [
        "Here are the instructions to be able to convert Notebook to Pdf:"
      ],
      "metadata": {}
    },
    {
      "cell_type": "markdown",
      "source": [
        "OPTIONAL: If you already don't have brew, install it by:\n",
        "    \n",
        "``` \n",
        "$ /usr/bin/ruby -e \"$(curl -fsSL https://raw.githubusercontent.com/Homebrew/install/master/install)\" \n",
        "```"
      ],
      "metadata": {}
    },
    {
      "cell_type": "markdown",
      "source": [
        "First, install MacTex application that will do the conversion\n",
        "\n",
        "```$ brew cask install mactex```"
      ],
      "metadata": {}
    },
    {
      "cell_type": "markdown",
      "source": [
        "Go to home directory:\n",
        "\n",
        "```$ cd ~/```"
      ],
      "metadata": {}
    },
    {
      "cell_type": "markdown",
      "source": [
        "Create .bash_profile folder\n",
        "\n",
        "```$ touch .bash_profile```"
      ],
      "metadata": {}
    },
    {
      "cell_type": "markdown",
      "source": [
        "This will open the bash profile file on TextEditor\n",
        "\n",
        "```$ open -e .bash_profile```"
      ],
      "metadata": {}
    },
    {
      "cell_type": "markdown",
      "source": [
        "Paste the following to the top of .bash_profile file and save\n",
        "\n",
        "``` \n",
        "### TeX      \n",
        "export PATH=\"/Library/TeX/Distributions/.DefaultTeX/Contents/Programs/texbin:$PATH\" \n",
        "```"
      ],
      "metadata": {}
    },
    {
      "cell_type": "markdown",
      "source": [
        "Refresh the bash profile\n",
        "\n",
        "```$ source ~/.bash_profile```"
      ],
      "metadata": {}
    },
    {
      "cell_type": "markdown",
      "source": [
        "Close any notebook you have and reopen it"
      ],
      "metadata": {}
    }
  ],
  "metadata": {
    "kernelspec": {
      "name": "python3",
      "language": "python",
      "display_name": "Python 3"
    },
    "language_info": {
      "name": "python",
      "version": "3.7.4",
      "mimetype": "text/x-python",
      "codemirror_mode": {
        "name": "ipython",
        "version": 3
      },
      "pygments_lexer": "ipython3",
      "nbconvert_exporter": "python",
      "file_extension": ".py"
    },
    "kernel_info": {
      "name": "python3"
    },
    "nteract": {
      "version": "0.15.0"
    }
  },
  "nbformat": 4,
  "nbformat_minor": 2
}